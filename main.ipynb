{
 "cells": [
  {
   "cell_type": "code",
   "execution_count": 193,
   "metadata": {},
   "outputs": [],
   "source": [
    "import numpy as np\n",
    "import pandas as pd\n",
    "import matplotlib.pyplot as plt\n",
    "import seaborn as sns\n",
    "\n",
    "from sklearn.preprocessing import StandardScaler, MinMaxScaler, RobustScaler\n",
    "from tqdm import tqdm\n",
    "from datetime import datetime\n",
    "\n",
    "# set the seed for reproducibility\n",
    "np.random.seed(42)"
   ]
  },
  {
   "cell_type": "code",
   "execution_count": 53,
   "metadata": {},
   "outputs": [],
   "source": [
    "train = pd.read_csv('./data/train_data.csv')\n",
    "\n",
    "test = pd.read_csv('./data/test_data.csv')"
   ]
  },
  {
   "cell_type": "code",
   "execution_count": 58,
   "metadata": {},
   "outputs": [],
   "source": [
    "# drop the out_pressure column\n",
    "train.drop(['out_pressure'], axis=1, inplace=True)\n",
    "test.drop(['out_pressure'], axis=1, inplace=True)"
   ]
  },
  {
   "cell_type": "code",
   "execution_count": 59,
   "metadata": {},
   "outputs": [],
   "source": [
    "# Different facilities have different HP ratings for their compressors.\n",
    "# We need to scale all the features based on the HP rating of the compressor.\n",
    "# And make a general model that can be used for all facilities.\n",
    "\n",
    "def transform(df):\n",
    "    # divide each facility hp rating by 30hp to get the ratio\n",
    "    hp_ratios = {0: 1.0, 1: 1.5, 2: 3.0, 3: 0.6, 4: 1.0, 5: 1.0, 6: 1.0, 7: 1.0}\n",
    "\n",
    "    df = df.copy()\n",
    "    # multiply the values with each column based on the type column\n",
    "    df['air_inflow'] = df.apply(lambda x: x['air_inflow'] * hp_ratios[x['type']], axis=1)\n",
    "    df['air_end_temp'] = df.apply(lambda x: x['air_end_temp'] * hp_ratios[x['type']], axis=1)\n",
    "    df['motor_current'] = df.apply(lambda x: x['motor_current'] * hp_ratios[x['type']], axis=1)\n",
    "    df['motor_rpm'] = df.apply(lambda x: x['motor_rpm'] * hp_ratios[x['type']], axis=1)\n",
    "    df['motor_temp'] = df.apply(lambda x: x['motor_temp'] * hp_ratios[x['type']], axis=1)\n",
    "    df['motor_vibe'] = df.apply(lambda x: x['motor_vibe'] * hp_ratios[x['type']], axis=1)\n",
    "\n",
    "    # drop the type column\n",
    "    df.drop(['type'], axis=1, inplace=True)\n",
    "\n",
    "    return df\n",
    "\n",
    "train = transform(train)\n",
    "test = transform(test)"
   ]
  },
  {
   "cell_type": "code",
   "execution_count": 194,
   "metadata": {},
   "outputs": [],
   "source": [
    "# scaler = MinMaxScaler()\n",
    "# scaler = StandardScaler()\n",
    "scaler = RobustScaler()\n",
    "\n",
    "train_scaled = scaler.fit_transform(train)"
   ]
  },
  {
   "cell_type": "code",
   "execution_count": 195,
   "metadata": {},
   "outputs": [],
   "source": [
    "import torch\n",
    "import torch.nn as nn\n",
    "import torch.optim as optim\n",
    "from torch.utils.data import Dataset, DataLoader\n",
    "\n",
    "# seed the random number generator\n",
    "torch.manual_seed(42)\n",
    "torch.cuda.manual_seed(42)\n",
    "torch.cuda.manual_seed_all(42)"
   ]
  },
  {
   "cell_type": "code",
   "execution_count": 196,
   "metadata": {},
   "outputs": [],
   "source": [
    "device = torch.device(\"cuda:0\" if torch.cuda.is_available() else \"cpu\")"
   ]
  },
  {
   "cell_type": "code",
   "execution_count": 197,
   "metadata": {},
   "outputs": [],
   "source": [
    "# Define the Autoencoder model architecture\n",
    "class Autoencoder(nn.Module):\n",
    "    def __init__(self):\n",
    "        super(Autoencoder, self).__init__()\n",
    "        self.encoder = nn.Sequential(\n",
    "            nn.Linear(6, 64),\n",
    "            nn.ReLU(),\n",
    "            nn.Linear(64, 32),\n",
    "            nn.ReLU(),\n",
    "            nn.Linear(32, 16),\n",
    "            nn.ReLU(),\n",
    "            nn.Linear(16, 8)\n",
    "        )\n",
    "        self.decoder = nn.Sequential(\n",
    "            nn.Linear(8, 16),\n",
    "            nn.ReLU(),\n",
    "            nn.Linear(16, 32),\n",
    "            nn.ReLU(),\n",
    "            nn.Linear(32, 64),\n",
    "            nn.ReLU(),\n",
    "            nn.Linear(64, 6)\n",
    "        )\n",
    "        \n",
    "    def forward(self, x):\n",
    "        x = self.encoder(x)\n",
    "        x = self.decoder(x)\n",
    "        return x"
   ]
  },
  {
   "cell_type": "code",
   "execution_count": 198,
   "metadata": {},
   "outputs": [],
   "source": [
    "# Define the dataset class\n",
    "class MyDataset(Dataset):\n",
    "    def __init__(self, X):\n",
    "        self.X = X\n",
    "    \n",
    "    def __len__(self):\n",
    "        return len(self.X)\n",
    "    \n",
    "    def __getitem__(self, idx):\n",
    "        x = self.X[idx]\n",
    "        # x = torch.from_numpy(x.to_numpy()).float()\n",
    "        x = torch.from_numpy(x).float()\n",
    "        return x, x"
   ]
  },
  {
   "cell_type": "code",
   "execution_count": 200,
   "metadata": {},
   "outputs": [],
   "source": [
    "train_dataset = MyDataset(train_scaled)\n",
    "train_loader = DataLoader(train_dataset, batch_size=64, shuffle=True)"
   ]
  },
  {
   "cell_type": "code",
   "execution_count": 202,
   "metadata": {},
   "outputs": [],
   "source": [
    "lr = 1e-3\n",
    "num_epochs = 50\n",
    "\n",
    "history = []\n",
    "\n",
    "model = Autoencoder()\n",
    "criterion = nn.MSELoss()\n",
    "optimizer = optim.Adam(model.parameters(), lr=lr)\n",
    "model.cuda()\n",
    "\n",
    "for epoch in range(num_epochs):\n",
    "    loss = 0\n",
    "    for data in train_loader:\n",
    "        inputs, _ = data\n",
    "        inputs = inputs.to(device)\n",
    "        outputs = model(inputs)\n",
    "        loss = criterion(outputs, inputs)\n",
    "        optimizer.zero_grad()\n",
    "        loss.backward()\n",
    "        optimizer.step()\n",
    "    # print('epoch [{}/{}], loss:{:.4f}'.format(epoch+1, num_epochs, loss.item()))\n",
    "    history.append(loss.item())"
   ]
  },
  {
   "cell_type": "code",
   "execution_count": 204,
   "metadata": {},
   "outputs": [
    {
     "data": {
      "image/png": "[encoded data removed]",
      "text/plain": [
       "<Figure size 640x480 with 1 Axes>"
      ]
     },
     "metadata": {},
     "output_type": "display_data"
    }
   ],
   "source": [
    "# plot the loss curve\n",
    "plt.plot(history)\n",
    "plt.show()"
   ]
  },
  {
   "cell_type": "code",
   "execution_count": 206,
   "metadata": {},
   "outputs": [],
   "source": [
    "train_data = torch.from_numpy(train_scaled).float()\n",
    "\n",
    "with torch.no_grad():\n",
    "    train_data = train_data.to(device)\n",
    "    reconstructions = model(train_data)\n",
    "\n",
    "train_recon_loss = np.mean(np.square(reconstructions.cpu().numpy() - train_data.cpu().numpy()), axis=1)"
   ]
  },
  {
   "cell_type": "code",
   "execution_count": 225,
   "metadata": {},
   "outputs": [
    {
     "data": {
      "image/png": "[encoded data removed]",
      "text/plain": [
       "<Figure size 640x480 with 1 Axes>"
      ]
     },
     "metadata": {},
     "output_type": "display_data"
    }
   ],
   "source": [
    "# plot histogram\n",
    "plt.hist(train_recon_loss, bins=50, range=(0, 0.01))\n",
    "plt.show()"
   ]
  },
  {
   "cell_type": "code",
   "execution_count": 210,
   "metadata": {},
   "outputs": [],
   "source": [
    "# scale the test data\n",
    "test_scaled = scaler.transform(test)\n",
    "\n",
    "# convert the test data to torch tensor\n",
    "test_data = torch.from_numpy(test_scaled).float()"
   ]
  },
  {
   "cell_type": "code",
   "execution_count": 212,
   "metadata": {},
   "outputs": [],
   "source": [
    "with torch.no_grad():\n",
    "    test_data = test_data.to(device)\n",
    "    reconstructions = model(test_data)\n",
    "\n",
    "test_recon_loss = np.mean(np.square(reconstructions.cpu().numpy() - test_data.cpu().numpy()), axis=1)"
   ]
  },
  {
   "cell_type": "code",
   "execution_count": 222,
   "metadata": {},
   "outputs": [
    {
     "data": {
      "image/png": "[encoded data removed]",
      "text/plain": [
       "<Figure size 640x480 with 1 Axes>"
      ]
     },
     "metadata": {},
     "output_type": "display_data"
    }
   ],
   "source": [
    "# plot histogram\n",
    "plt.hist(test_recon_loss, bins=50, range=(0, 0.01))\n",
    "plt.show()"
   ]
  },
  {
   "cell_type": "code",
   "execution_count": 226,
   "metadata": {},
   "outputs": [
    {
     "name": "stdout",
     "output_type": "stream",
     "text": [
      "Threshold: 0.0016348704253323402\n"
     ]
    }
   ],
   "source": [
    "# define the threshold\n",
    "threshold = np.percentile(train_recon_loss, 99)\n",
    "\n",
    "print(\"Threshold: {}\".format(threshold))"
   ]
  },
  {
   "cell_type": "code",
   "execution_count": 228,
   "metadata": {},
   "outputs": [],
   "source": [
    "# classify the test data as normal 0 or abnormal 1 based on the threshold\n",
    "pred = np.where(test_recon_loss > threshold, 1, 0)"
   ]
  },
  {
   "cell_type": "code",
   "execution_count": 229,
   "metadata": {},
   "outputs": [],
   "source": [
    "# load answer_sample.csv\n",
    "answer = pd.read_csv('./data/answer_sample.csv')"
   ]
  },
  {
   "cell_type": "code",
   "execution_count": 231,
   "metadata": {},
   "outputs": [],
   "source": [
    "# save the results in the csv file\n",
    "answer['label'] = pred\n",
    "answer.to_csv('submission_{}.csv'.format(datetime.now().strftime(\"%y.%m.%d_%H.%M.%S\")), index=False)"
   ]
  },
  {
   "cell_type": "code",
   "execution_count": null,
   "metadata": {},
   "outputs": [],
   "source": []
  }
 ],
 "metadata": {
  "kernelspec": {
   "display_name": "Python 3",
   "language": "python",
   "name": "python3"
  },
  "language_info": {
   "codemirror_mode": {
    "name": "ipython",
    "version": 3
   },
   "file_extension": ".py",
   "mimetype": "text/x-python",
   "name": "python",
   "nbconvert_exporter": "python",
   "pygments_lexer": "ipython3",
   "version": "3.9.13"
  },
  "orig_nbformat": 4
 },
 "nbformat": 4,
 "nbformat_minor": 2
}
